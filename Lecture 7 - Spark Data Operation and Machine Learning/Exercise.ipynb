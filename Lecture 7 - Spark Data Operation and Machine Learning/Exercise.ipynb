{
  "cells": [
    {
      "cell_type": "markdown",
      "metadata": {},
      "source": [
        "## Spark Machine Learning\n",
        "- The purpose is to apply pyspark MLlib for doing machine learning on a real world forest dataset collected by US Forest Service"
      ]
    },
    {
      "cell_type": "markdown",
      "metadata": {
        "id": "Okvz3RmAn8IA"
      },
      "source": [
        "### Setup"
      ]
    },
    {
      "cell_type": "code",
      "execution_count": 1,
      "metadata": {
        "colab": {
          "base_uri": "https://localhost:8080/"
        },
        "id": "U_fGNaujjsex",
        "outputId": "8fb6775f-2da4-4597-a97b-a2c53f10b120"
      },
      "outputs": [
        {
          "name": "stderr",
          "output_type": "stream",
          "text": [
            "--2022-03-06 17:23:27--  https://github.com/ppkgtmm/big-data/raw/main/setup_spark_colab.sh\n",
            "Resolving github.com (github.com)... 140.82.113.4\n",
            "Connecting to github.com (github.com)|140.82.113.4|:443... connected.\n",
            "HTTP request sent, awaiting response... 302 Found\n",
            "Location: https://raw.githubusercontent.com/ppkgtmm/big-data/main/setup_spark_colab.sh [following]\n",
            "--2022-03-06 17:23:27--  https://raw.githubusercontent.com/ppkgtmm/big-data/main/setup_spark_colab.sh\n",
            "Resolving raw.githubusercontent.com (raw.githubusercontent.com)... 185.199.110.133, 185.199.111.133, 185.199.109.133, ...\n",
            "Connecting to raw.githubusercontent.com (raw.githubusercontent.com)|185.199.110.133|:443... connected.\n",
            "HTTP request sent, awaiting response... 200 OK\n",
            "Length: 507 [text/plain]\n",
            "Saving to: ‘setup_spark_colab.sh’\n",
            "\n",
            "     0K                                                       100% 21.5M=0s\n",
            "\n",
            "2022-03-06 17:23:27 (21.5 MB/s) - ‘setup_spark_colab.sh’ saved [507/507]\n",
            "\n"
          ]
        }
      ],
      "source": [
        "%%bash\n",
        "wget https://github.com/ppkgtmm/big-data/raw/main/setup_spark_colab.sh\n",
        "chmod +x ./setup_spark_colab.sh\n",
        "./setup_spark_colab.sh &> /dev/null"
      ]
    },
    {
      "cell_type": "code",
      "execution_count": 2,
      "metadata": {
        "id": "5c7OQK_G3j6p"
      },
      "outputs": [],
      "source": [
        "import os\n",
        "os.environ[\"JAVA_HOME\"] = \"/usr/lib/jvm/java-8-openjdk-amd64\"\n",
        "os.environ[\"SPARK_HOME\"] = \"/content/spark-3.2.1-bin-hadoop2.7\""
      ]
    },
    {
      "cell_type": "markdown",
      "metadata": {
        "id": "zUHv5R95reDO"
      },
      "source": [
        "### Download data"
      ]
    },
    {
      "cell_type": "code",
      "execution_count": 3,
      "metadata": {
        "colab": {
          "base_uri": "https://localhost:8080/"
        },
        "id": "CJxHCSVdrdty",
        "outputId": "370b005b-9ffc-4c07-cccd-aabdd5b94f91"
      },
      "outputs": [
        {
          "name": "stdout",
          "output_type": "stream",
          "text": [
            "Downloading...\n",
            "From: https://drive.google.com/uc?id=1TDRDFYYJN0o9aMLTVlwSlTGzf-XkAygN\n",
            "To: /content/cover_type.csv\n",
            "100% 59.2M/59.2M [00:00<00:00, 101MB/s]\n"
          ]
        }
      ],
      "source": [
        "!gdown -O /content/cover_type.csv --id 1TDRDFYYJN0o9aMLTVlwSlTGzf-XkAygN"
      ]
    },
    {
      "cell_type": "markdown",
      "metadata": {
        "id": "eTOZCGGqrT9E"
      },
      "source": [
        "### Import libraries"
      ]
    },
    {
      "cell_type": "code",
      "execution_count": 4,
      "metadata": {
        "id": "kK_k5RC_rRDG"
      },
      "outputs": [],
      "source": [
        "from pyspark.sql import SparkSession\n",
        "from pyspark.ml.feature import StringIndexer, OneHotEncoder, VectorAssembler, \\\n",
        "IndexToString\n",
        "from pyspark.ml.classification import RandomForestClassifier\n",
        "from pyspark.ml import Pipeline\n",
        "from pyspark.ml.evaluation import MulticlassClassificationEvaluator"
      ]
    },
    {
      "cell_type": "markdown",
      "metadata": {
        "id": "AjMag3Ox5xvf"
      },
      "source": [
        "### Create session"
      ]
    },
    {
      "cell_type": "code",
      "execution_count": 5,
      "metadata": {
        "id": "r741dTA45xiQ"
      },
      "outputs": [],
      "source": [
        "spark = SparkSession \\\n",
        "    .builder \\\n",
        "    .appName(\"Lab 7\") \\\n",
        "    .getOrCreate()"
      ]
    },
    {
      "cell_type": "markdown",
      "metadata": {
        "id": "blrw_-t0skJd"
      },
      "source": [
        "### Steps"
      ]
    },
    {
      "cell_type": "markdown",
      "metadata": {
        "id": "7bzSaf0V5nAp"
      },
      "source": [
        "- Read the data into Spark. Verify that data is successfully loaded by showing first 5 rows."
      ]
    },
    {
      "cell_type": "code",
      "execution_count": 6,
      "metadata": {
        "colab": {
          "base_uri": "https://localhost:8080/",
          "height": 565
        },
        "id": "R4bsuPLt5lCu",
        "outputId": "7b01c85a-8463-4dac-8b3e-64798297d51e"
      },
      "outputs": [
        {
          "data": {
            "text/html": [
              "\n",
              "  <div id=\"df-ad65e19e-eede-4939-85d5-f2319ce06f09\">\n",
              "    <div class=\"colab-df-container\">\n",
              "      <div>\n",
              "<style scoped>\n",
              "    .dataframe tbody tr th:only-of-type {\n",
              "        vertical-align: middle;\n",
              "    }\n",
              "\n",
              "    .dataframe tbody tr th {\n",
              "        vertical-align: top;\n",
              "    }\n",
              "\n",
              "    .dataframe thead th {\n",
              "        text-align: right;\n",
              "    }\n",
              "</style>\n",
              "<table border=\"1\" class=\"dataframe\">\n",
              "  <thead>\n",
              "    <tr style=\"text-align: right;\">\n",
              "      <th></th>\n",
              "      <th>Elevation</th>\n",
              "      <th>Aspect</th>\n",
              "      <th>Slope</th>\n",
              "      <th>Horizontal_Distance_To_Hydrology</th>\n",
              "      <th>Vertical_Distance_To_Hydrology</th>\n",
              "      <th>Horizontal_Distance_To_Roadways</th>\n",
              "      <th>Hillshade_9am</th>\n",
              "      <th>Hillshade_Noon</th>\n",
              "      <th>Hillshade_3pm</th>\n",
              "      <th>Horizontal_Distance_To_Fire_Points</th>\n",
              "      <th>Wilderness_Type</th>\n",
              "      <th>Soil_Type</th>\n",
              "      <th>Cover_Type</th>\n",
              "    </tr>\n",
              "  </thead>\n",
              "  <tbody>\n",
              "    <tr>\n",
              "      <th>0</th>\n",
              "      <td>2596</td>\n",
              "      <td>51</td>\n",
              "      <td>3</td>\n",
              "      <td>258</td>\n",
              "      <td>0</td>\n",
              "      <td>510</td>\n",
              "      <td>221</td>\n",
              "      <td>232</td>\n",
              "      <td>148</td>\n",
              "      <td>6279</td>\n",
              "      <td>Rawah</td>\n",
              "      <td>Como - Legault families complex</td>\n",
              "      <td>Aspen</td>\n",
              "    </tr>\n",
              "    <tr>\n",
              "      <th>1</th>\n",
              "      <td>2590</td>\n",
              "      <td>56</td>\n",
              "      <td>2</td>\n",
              "      <td>212</td>\n",
              "      <td>-6</td>\n",
              "      <td>390</td>\n",
              "      <td>220</td>\n",
              "      <td>235</td>\n",
              "      <td>151</td>\n",
              "      <td>6225</td>\n",
              "      <td>Rawah</td>\n",
              "      <td>Como - Legault families complex</td>\n",
              "      <td>Aspen</td>\n",
              "    </tr>\n",
              "    <tr>\n",
              "      <th>2</th>\n",
              "      <td>2804</td>\n",
              "      <td>139</td>\n",
              "      <td>9</td>\n",
              "      <td>268</td>\n",
              "      <td>65</td>\n",
              "      <td>3180</td>\n",
              "      <td>234</td>\n",
              "      <td>238</td>\n",
              "      <td>135</td>\n",
              "      <td>6121</td>\n",
              "      <td>Rawah</td>\n",
              "      <td>Legault family - Rock land complex</td>\n",
              "      <td>Lodgepole Pine</td>\n",
              "    </tr>\n",
              "    <tr>\n",
              "      <th>3</th>\n",
              "      <td>2785</td>\n",
              "      <td>155</td>\n",
              "      <td>18</td>\n",
              "      <td>242</td>\n",
              "      <td>118</td>\n",
              "      <td>3090</td>\n",
              "      <td>238</td>\n",
              "      <td>238</td>\n",
              "      <td>122</td>\n",
              "      <td>6211</td>\n",
              "      <td>Rawah</td>\n",
              "      <td>Como family - Rock land - Legault family complex</td>\n",
              "      <td>Lodgepole Pine</td>\n",
              "    </tr>\n",
              "    <tr>\n",
              "      <th>4</th>\n",
              "      <td>2595</td>\n",
              "      <td>45</td>\n",
              "      <td>2</td>\n",
              "      <td>153</td>\n",
              "      <td>-1</td>\n",
              "      <td>391</td>\n",
              "      <td>220</td>\n",
              "      <td>234</td>\n",
              "      <td>150</td>\n",
              "      <td>6172</td>\n",
              "      <td>Rawah</td>\n",
              "      <td>Como - Legault families complex</td>\n",
              "      <td>Aspen</td>\n",
              "    </tr>\n",
              "  </tbody>\n",
              "</table>\n",
              "</div>\n",
              "      <button class=\"colab-df-convert\" onclick=\"convertToInteractive('df-ad65e19e-eede-4939-85d5-f2319ce06f09')\"\n",
              "              title=\"Convert this dataframe to an interactive table.\"\n",
              "              style=\"display:none;\">\n",
              "        \n",
              "  <svg xmlns=\"http://www.w3.org/2000/svg\" height=\"24px\"viewBox=\"0 0 24 24\"\n",
              "       width=\"24px\">\n",
              "    <path d=\"M0 0h24v24H0V0z\" fill=\"none\"/>\n",
              "    <path d=\"M18.56 5.44l.94 2.06.94-2.06 2.06-.94-2.06-.94-.94-2.06-.94 2.06-2.06.94zm-11 1L8.5 8.5l.94-2.06 2.06-.94-2.06-.94L8.5 2.5l-.94 2.06-2.06.94zm10 10l.94 2.06.94-2.06 2.06-.94-2.06-.94-.94-2.06-.94 2.06-2.06.94z\"/><path d=\"M17.41 7.96l-1.37-1.37c-.4-.4-.92-.59-1.43-.59-.52 0-1.04.2-1.43.59L10.3 9.45l-7.72 7.72c-.78.78-.78 2.05 0 2.83L4 21.41c.39.39.9.59 1.41.59.51 0 1.02-.2 1.41-.59l7.78-7.78 2.81-2.81c.8-.78.8-2.07 0-2.86zM5.41 20L4 18.59l7.72-7.72 1.47 1.35L5.41 20z\"/>\n",
              "  </svg>\n",
              "      </button>\n",
              "      \n",
              "  <style>\n",
              "    .colab-df-container {\n",
              "      display:flex;\n",
              "      flex-wrap:wrap;\n",
              "      gap: 12px;\n",
              "    }\n",
              "\n",
              "    .colab-df-convert {\n",
              "      background-color: #E8F0FE;\n",
              "      border: none;\n",
              "      border-radius: 50%;\n",
              "      cursor: pointer;\n",
              "      display: none;\n",
              "      fill: #1967D2;\n",
              "      height: 32px;\n",
              "      padding: 0 0 0 0;\n",
              "      width: 32px;\n",
              "    }\n",
              "\n",
              "    .colab-df-convert:hover {\n",
              "      background-color: #E2EBFA;\n",
              "      box-shadow: 0px 1px 2px rgba(60, 64, 67, 0.3), 0px 1px 3px 1px rgba(60, 64, 67, 0.15);\n",
              "      fill: #174EA6;\n",
              "    }\n",
              "\n",
              "    [theme=dark] .colab-df-convert {\n",
              "      background-color: #3B4455;\n",
              "      fill: #D2E3FC;\n",
              "    }\n",
              "\n",
              "    [theme=dark] .colab-df-convert:hover {\n",
              "      background-color: #434B5C;\n",
              "      box-shadow: 0px 1px 3px 1px rgba(0, 0, 0, 0.15);\n",
              "      filter: drop-shadow(0px 1px 2px rgba(0, 0, 0, 0.3));\n",
              "      fill: #FFFFFF;\n",
              "    }\n",
              "  </style>\n",
              "\n",
              "      <script>\n",
              "        const buttonEl =\n",
              "          document.querySelector('#df-ad65e19e-eede-4939-85d5-f2319ce06f09 button.colab-df-convert');\n",
              "        buttonEl.style.display =\n",
              "          google.colab.kernel.accessAllowed ? 'block' : 'none';\n",
              "\n",
              "        async function convertToInteractive(key) {\n",
              "          const element = document.querySelector('#df-ad65e19e-eede-4939-85d5-f2319ce06f09');\n",
              "          const dataTable =\n",
              "            await google.colab.kernel.invokeFunction('convertToInteractive',\n",
              "                                                     [key], {});\n",
              "          if (!dataTable) return;\n",
              "\n",
              "          const docLinkHtml = 'Like what you see? Visit the ' +\n",
              "            '<a target=\"_blank\" href=https://colab.research.google.com/notebooks/data_table.ipynb>data table notebook</a>'\n",
              "            + ' to learn more about interactive tables.';\n",
              "          element.innerHTML = '';\n",
              "          dataTable['output_type'] = 'display_data';\n",
              "          await google.colab.output.renderOutput(dataTable, element);\n",
              "          const docLink = document.createElement('div');\n",
              "          docLink.innerHTML = docLinkHtml;\n",
              "          element.appendChild(docLink);\n",
              "        }\n",
              "      </script>\n",
              "    </div>\n",
              "  </div>\n",
              "  "
            ],
            "text/plain": [
              "   Elevation  Aspect  Slope  Horizontal_Distance_To_Hydrology  \\\n",
              "0       2596      51      3                               258   \n",
              "1       2590      56      2                               212   \n",
              "2       2804     139      9                               268   \n",
              "3       2785     155     18                               242   \n",
              "4       2595      45      2                               153   \n",
              "\n",
              "   Vertical_Distance_To_Hydrology  Horizontal_Distance_To_Roadways  \\\n",
              "0                               0                              510   \n",
              "1                              -6                              390   \n",
              "2                              65                             3180   \n",
              "3                             118                             3090   \n",
              "4                              -1                              391   \n",
              "\n",
              "   Hillshade_9am  Hillshade_Noon  Hillshade_3pm  \\\n",
              "0            221             232            148   \n",
              "1            220             235            151   \n",
              "2            234             238            135   \n",
              "3            238             238            122   \n",
              "4            220             234            150   \n",
              "\n",
              "   Horizontal_Distance_To_Fire_Points Wilderness_Type  \\\n",
              "0                                6279           Rawah   \n",
              "1                                6225           Rawah   \n",
              "2                                6121           Rawah   \n",
              "3                                6211           Rawah   \n",
              "4                                6172           Rawah   \n",
              "\n",
              "                                          Soil_Type      Cover_Type  \n",
              "0                   Como - Legault families complex           Aspen  \n",
              "1                   Como - Legault families complex           Aspen  \n",
              "2                Legault family - Rock land complex  Lodgepole Pine  \n",
              "3  Como family - Rock land - Legault family complex  Lodgepole Pine  \n",
              "4                   Como - Legault families complex           Aspen  "
            ]
          },
          "execution_count": 6,
          "metadata": {},
          "output_type": "execute_result"
        }
      ],
      "source": [
        "data = (\n",
        "    spark\n",
        "    .read\n",
        "    .csv('/content/cover_type.csv', header=True, inferSchema=True)\n",
        ")\n",
        "data.limit(5).toPandas()"
      ]
    },
    {
      "cell_type": "code",
      "execution_count": 7,
      "metadata": {
        "colab": {
          "base_uri": "https://localhost:8080/"
        },
        "id": "W7zUPD9VLl9T",
        "outputId": "8dbe567e-4883-48cc-d96e-6e737dd57b15"
      },
      "outputs": [
        {
          "name": "stdout",
          "output_type": "stream",
          "text": [
            "root\n",
            " |-- Elevation: integer (nullable = true)\n",
            " |-- Aspect: integer (nullable = true)\n",
            " |-- Slope: integer (nullable = true)\n",
            " |-- Horizontal_Distance_To_Hydrology: integer (nullable = true)\n",
            " |-- Vertical_Distance_To_Hydrology: integer (nullable = true)\n",
            " |-- Horizontal_Distance_To_Roadways: integer (nullable = true)\n",
            " |-- Hillshade_9am: integer (nullable = true)\n",
            " |-- Hillshade_Noon: integer (nullable = true)\n",
            " |-- Hillshade_3pm: integer (nullable = true)\n",
            " |-- Horizontal_Distance_To_Fire_Points: integer (nullable = true)\n",
            " |-- Wilderness_Type: string (nullable = true)\n",
            " |-- Soil_Type: string (nullable = true)\n",
            " |-- Cover_Type: string (nullable = true)\n",
            "\n"
          ]
        }
      ],
      "source": [
        "data.printSchema()"
      ]
    },
    {
      "cell_type": "markdown",
      "metadata": {
        "id": "raKPK1nbDvK2"
      },
      "source": [
        "- Split dataset into Training set and Test Set. Using 80:20 proportion."
      ]
    },
    {
      "cell_type": "code",
      "execution_count": 8,
      "metadata": {
        "colab": {
          "base_uri": "https://localhost:8080/"
        },
        "id": "0GcllDTVDkXR",
        "outputId": "947325c1-d9dc-4c19-de2a-23812bdf795e"
      },
      "outputs": [
        {
          "data": {
            "text/plain": [
              "(464558, 116454)"
            ]
          },
          "execution_count": 8,
          "metadata": {},
          "output_type": "execute_result"
        }
      ],
      "source": [
        "(trainset, testset) = data.randomSplit([0.8, 0.2], seed = 11)\n",
        "trainset.count(), testset.count()"
      ]
    },
    {
      "cell_type": "markdown",
      "metadata": {
        "id": "A3XaeSQpEibW"
      },
      "source": [
        "- Construct a Pipeline consists of following stages:\n",
        "  - I. Indexer and Encoder for Wilderness_Type\n",
        "  - II. Indexer and Encoder for Soil_Type\n",
        "  - III. Indexer for Cover_Type\n",
        "  - IV. Vector Assembler to pack everything together\n",
        "  - V. Random Forest Classifier\n",
        "  - VI. Label Converter"
      ]
    },
    {
      "cell_type": "code",
      "execution_count": 9,
      "metadata": {
        "id": "qOYRu5eJEUEe"
      },
      "outputs": [],
      "source": [
        "cat_cols = ['Wilderness_Type', 'Soil_Type', 'Cover_Type']\n",
        "num_cols = list(set(trainset.columns) - set(cat_cols))"
      ]
    },
    {
      "cell_type": "code",
      "execution_count": 10,
      "metadata": {
        "id": "LEQuZUvZFHWT"
      },
      "outputs": [],
      "source": [
        "preps = []\n",
        "prep_colnames = []\n",
        "for col in cat_cols[:-1]:\n",
        "  indexer = StringIndexer(inputCol=col, outputCol=col+'_index')\n",
        "  encoder = OneHotEncoder(inputCol=col+'_index', outputCol=col+'_prep')\n",
        "  preps.append(indexer)\n",
        "  preps.append(encoder)\n",
        "  prep_colnames.append(col+'_prep')"
      ]
    },
    {
      "cell_type": "code",
      "execution_count": 11,
      "metadata": {
        "id": "nP7RheU7G4V0"
      },
      "outputs": [],
      "source": [
        "target_name = cat_cols[-1]+'_prep'\n",
        "cover_indexer = StringIndexer(\n",
        "    inputCol=cat_cols[-1],\n",
        "    outputCol=target_name\n",
        ")"
      ]
    },
    {
      "cell_type": "code",
      "execution_count": 12,
      "metadata": {
        "id": "tHZMUOFKGGBr"
      },
      "outputs": [],
      "source": [
        "all_cols = prep_colnames + num_cols\n",
        "vec_assem = VectorAssembler(inputCols=all_cols, outputCol='features')"
      ]
    },
    {
      "cell_type": "code",
      "execution_count": 13,
      "metadata": {
        "id": "HQEaychFHNc5"
      },
      "outputs": [],
      "source": [
        "rf = RandomForestClassifier(featuresCol='features', labelCol=target_name)"
      ]
    },
    {
      "cell_type": "code",
      "execution_count": 14,
      "metadata": {
        "id": "IKfqm4X8HkKf"
      },
      "outputs": [],
      "source": [
        "label_inverter = IndexToString(\n",
        "    inputCol='prediction',\n",
        "    outputCol='predictionLabel',\n",
        "    labels = cover_indexer.fit(trainset).labels\n",
        ")"
      ]
    },
    {
      "cell_type": "code",
      "execution_count": 15,
      "metadata": {
        "id": "1mXiDMO-Imyq"
      },
      "outputs": [],
      "source": [
        "pipeline = Pipeline(\n",
        "    stages= preps + [cover_indexer, vec_assem , rf, label_inverter]\n",
        ")"
      ]
    },
    {
      "cell_type": "markdown",
      "metadata": {
        "id": "5Pc1DtXhLZuc"
      },
      "source": [
        "- Make a prediction of Test set. Evaluate the performance using accuracy score."
      ]
    },
    {
      "cell_type": "code",
      "execution_count": 16,
      "metadata": {
        "id": "ThhrI8LNIzsK"
      },
      "outputs": [],
      "source": [
        "model = pipeline.fit(trainset)"
      ]
    },
    {
      "cell_type": "code",
      "execution_count": 17,
      "metadata": {
        "colab": {
          "base_uri": "https://localhost:8080/",
          "height": 206
        },
        "id": "zM-cml_MLVVw",
        "outputId": "fb22bfbf-b3cb-430b-981d-6221fda85add"
      },
      "outputs": [
        {
          "data": {
            "text/html": [
              "\n",
              "  <div id=\"df-abdc54b5-7918-4c6a-930d-15128add0178\">\n",
              "    <div class=\"colab-df-container\">\n",
              "      <div>\n",
              "<style scoped>\n",
              "    .dataframe tbody tr th:only-of-type {\n",
              "        vertical-align: middle;\n",
              "    }\n",
              "\n",
              "    .dataframe tbody tr th {\n",
              "        vertical-align: top;\n",
              "    }\n",
              "\n",
              "    .dataframe thead th {\n",
              "        text-align: right;\n",
              "    }\n",
              "</style>\n",
              "<table border=\"1\" class=\"dataframe\">\n",
              "  <thead>\n",
              "    <tr style=\"text-align: right;\">\n",
              "      <th></th>\n",
              "      <th>probability</th>\n",
              "      <th>prediction</th>\n",
              "      <th>predictionLabel</th>\n",
              "      <th>Cover_Type</th>\n",
              "    </tr>\n",
              "  </thead>\n",
              "  <tbody>\n",
              "    <tr>\n",
              "      <th>0</th>\n",
              "      <td>[0.21835411914501396, 0.09380611083146631, 0.4...</td>\n",
              "      <td>2.0</td>\n",
              "      <td>Ponderosa Pine</td>\n",
              "      <td>Ponderosa Pine</td>\n",
              "    </tr>\n",
              "    <tr>\n",
              "      <th>1</th>\n",
              "      <td>[0.19586503734169203, 0.08700763908296678, 0.4...</td>\n",
              "      <td>2.0</td>\n",
              "      <td>Ponderosa Pine</td>\n",
              "      <td>Ponderosa Pine</td>\n",
              "    </tr>\n",
              "    <tr>\n",
              "      <th>2</th>\n",
              "      <td>[0.19057219110095994, 0.08645849944224393, 0.4...</td>\n",
              "      <td>2.0</td>\n",
              "      <td>Ponderosa Pine</td>\n",
              "      <td>Douglas-fir</td>\n",
              "    </tr>\n",
              "    <tr>\n",
              "      <th>3</th>\n",
              "      <td>[0.21355438749109537, 0.1036751747327392, 0.42...</td>\n",
              "      <td>2.0</td>\n",
              "      <td>Ponderosa Pine</td>\n",
              "      <td>Douglas-fir</td>\n",
              "    </tr>\n",
              "    <tr>\n",
              "      <th>4</th>\n",
              "      <td>[0.19586503734169203, 0.08700763908296678, 0.4...</td>\n",
              "      <td>2.0</td>\n",
              "      <td>Ponderosa Pine</td>\n",
              "      <td>Ponderosa Pine</td>\n",
              "    </tr>\n",
              "  </tbody>\n",
              "</table>\n",
              "</div>\n",
              "      <button class=\"colab-df-convert\" onclick=\"convertToInteractive('df-abdc54b5-7918-4c6a-930d-15128add0178')\"\n",
              "              title=\"Convert this dataframe to an interactive table.\"\n",
              "              style=\"display:none;\">\n",
              "        \n",
              "  <svg xmlns=\"http://www.w3.org/2000/svg\" height=\"24px\"viewBox=\"0 0 24 24\"\n",
              "       width=\"24px\">\n",
              "    <path d=\"M0 0h24v24H0V0z\" fill=\"none\"/>\n",
              "    <path d=\"M18.56 5.44l.94 2.06.94-2.06 2.06-.94-2.06-.94-.94-2.06-.94 2.06-2.06.94zm-11 1L8.5 8.5l.94-2.06 2.06-.94-2.06-.94L8.5 2.5l-.94 2.06-2.06.94zm10 10l.94 2.06.94-2.06 2.06-.94-2.06-.94-.94-2.06-.94 2.06-2.06.94z\"/><path d=\"M17.41 7.96l-1.37-1.37c-.4-.4-.92-.59-1.43-.59-.52 0-1.04.2-1.43.59L10.3 9.45l-7.72 7.72c-.78.78-.78 2.05 0 2.83L4 21.41c.39.39.9.59 1.41.59.51 0 1.02-.2 1.41-.59l7.78-7.78 2.81-2.81c.8-.78.8-2.07 0-2.86zM5.41 20L4 18.59l7.72-7.72 1.47 1.35L5.41 20z\"/>\n",
              "  </svg>\n",
              "      </button>\n",
              "      \n",
              "  <style>\n",
              "    .colab-df-container {\n",
              "      display:flex;\n",
              "      flex-wrap:wrap;\n",
              "      gap: 12px;\n",
              "    }\n",
              "\n",
              "    .colab-df-convert {\n",
              "      background-color: #E8F0FE;\n",
              "      border: none;\n",
              "      border-radius: 50%;\n",
              "      cursor: pointer;\n",
              "      display: none;\n",
              "      fill: #1967D2;\n",
              "      height: 32px;\n",
              "      padding: 0 0 0 0;\n",
              "      width: 32px;\n",
              "    }\n",
              "\n",
              "    .colab-df-convert:hover {\n",
              "      background-color: #E2EBFA;\n",
              "      box-shadow: 0px 1px 2px rgba(60, 64, 67, 0.3), 0px 1px 3px 1px rgba(60, 64, 67, 0.15);\n",
              "      fill: #174EA6;\n",
              "    }\n",
              "\n",
              "    [theme=dark] .colab-df-convert {\n",
              "      background-color: #3B4455;\n",
              "      fill: #D2E3FC;\n",
              "    }\n",
              "\n",
              "    [theme=dark] .colab-df-convert:hover {\n",
              "      background-color: #434B5C;\n",
              "      box-shadow: 0px 1px 3px 1px rgba(0, 0, 0, 0.15);\n",
              "      filter: drop-shadow(0px 1px 2px rgba(0, 0, 0, 0.3));\n",
              "      fill: #FFFFFF;\n",
              "    }\n",
              "  </style>\n",
              "\n",
              "      <script>\n",
              "        const buttonEl =\n",
              "          document.querySelector('#df-abdc54b5-7918-4c6a-930d-15128add0178 button.colab-df-convert');\n",
              "        buttonEl.style.display =\n",
              "          google.colab.kernel.accessAllowed ? 'block' : 'none';\n",
              "\n",
              "        async function convertToInteractive(key) {\n",
              "          const element = document.querySelector('#df-abdc54b5-7918-4c6a-930d-15128add0178');\n",
              "          const dataTable =\n",
              "            await google.colab.kernel.invokeFunction('convertToInteractive',\n",
              "                                                     [key], {});\n",
              "          if (!dataTable) return;\n",
              "\n",
              "          const docLinkHtml = 'Like what you see? Visit the ' +\n",
              "            '<a target=\"_blank\" href=https://colab.research.google.com/notebooks/data_table.ipynb>data table notebook</a>'\n",
              "            + ' to learn more about interactive tables.';\n",
              "          element.innerHTML = '';\n",
              "          dataTable['output_type'] = 'display_data';\n",
              "          await google.colab.output.renderOutput(dataTable, element);\n",
              "          const docLink = document.createElement('div');\n",
              "          docLink.innerHTML = docLinkHtml;\n",
              "          element.appendChild(docLink);\n",
              "        }\n",
              "      </script>\n",
              "    </div>\n",
              "  </div>\n",
              "  "
            ],
            "text/plain": [
              "                                         probability  prediction  \\\n",
              "0  [0.21835411914501396, 0.09380611083146631, 0.4...         2.0   \n",
              "1  [0.19586503734169203, 0.08700763908296678, 0.4...         2.0   \n",
              "2  [0.19057219110095994, 0.08645849944224393, 0.4...         2.0   \n",
              "3  [0.21355438749109537, 0.1036751747327392, 0.42...         2.0   \n",
              "4  [0.19586503734169203, 0.08700763908296678, 0.4...         2.0   \n",
              "\n",
              "  predictionLabel      Cover_Type  \n",
              "0  Ponderosa Pine  Ponderosa Pine  \n",
              "1  Ponderosa Pine  Ponderosa Pine  \n",
              "2  Ponderosa Pine     Douglas-fir  \n",
              "3  Ponderosa Pine     Douglas-fir  \n",
              "4  Ponderosa Pine  Ponderosa Pine  "
            ]
          },
          "execution_count": 17,
          "metadata": {},
          "output_type": "execute_result"
        }
      ],
      "source": [
        "predictions = model.transform(testset)\n",
        "(\n",
        "    predictions\n",
        "    .select(['probability', 'prediction', 'predictionLabel', cat_cols[-1]])\n",
        "    .limit(5)\n",
        "    .toPandas()\n",
        ")"
      ]
    },
    {
      "cell_type": "code",
      "execution_count": 18,
      "metadata": {
        "colab": {
          "base_uri": "https://localhost:8080/"
        },
        "id": "fitnHHpLMrYp",
        "outputId": "9964f307-d9da-4e7d-d44a-ed973ecce8cd"
      },
      "outputs": [
        {
          "name": "stdout",
          "output_type": "stream",
          "text": [
            "Test Accuracy = 0.6765\n"
          ]
        }
      ],
      "source": [
        "acc_evaluator = MulticlassClassificationEvaluator(\n",
        "    labelCol=target_name, \n",
        "    predictionCol='prediction', \n",
        "    metricName='accuracy'\n",
        ")\n",
        "print('Test Accuracy = {:.4f}'.format(acc_evaluator.evaluate(predictions)))"
      ]
    },
    {
      "cell_type": "code",
      "execution_count": 19,
      "metadata": {
        "colab": {
          "base_uri": "https://localhost:8080/"
        },
        "id": "gaMNpaE0ODnv",
        "outputId": "b0896540-366e-4690-a979-2e43c7f1a2c9"
      },
      "outputs": [
        {
          "name": "stdout",
          "output_type": "stream",
          "text": [
            "Test Precision = 0.6190\n"
          ]
        }
      ],
      "source": [
        "prec_evaluator = MulticlassClassificationEvaluator(\n",
        "    labelCol=target_name, \n",
        "    predictionCol='prediction', \n",
        "    metricName='weightedPrecision'\n",
        ")\n",
        "print('Test Precision = {:.4f}'.format(prec_evaluator.evaluate(predictions)))"
      ]
    },
    {
      "cell_type": "code",
      "execution_count": 20,
      "metadata": {
        "colab": {
          "base_uri": "https://localhost:8080/"
        },
        "id": "y6bnzR07ONtL",
        "outputId": "4297eabb-ca42-4694-b6ae-dbc7bf65653a"
      },
      "outputs": [
        {
          "name": "stdout",
          "output_type": "stream",
          "text": [
            "Test Recall = 0.6765\n"
          ]
        }
      ],
      "source": [
        "rec_evaluator = MulticlassClassificationEvaluator(\n",
        "    labelCol=target_name, \n",
        "    predictionCol='prediction', \n",
        "    metricName='weightedRecall'\n",
        ")\n",
        "print('Test Recall = {:.4f}'.format(rec_evaluator.evaluate(predictions)))"
      ]
    },
    {
      "cell_type": "code",
      "execution_count": 21,
      "metadata": {
        "colab": {
          "base_uri": "https://localhost:8080/"
        },
        "id": "0tF6Y_XaOV7F",
        "outputId": "dbd6c350-8f08-474f-84e3-99ce64068b33"
      },
      "outputs": [
        {
          "name": "stdout",
          "output_type": "stream",
          "text": [
            "Test F1 = 0.6422\n"
          ]
        }
      ],
      "source": [
        "f1_evaluator = MulticlassClassificationEvaluator(\n",
        "    labelCol=target_name, \n",
        "    predictionCol='prediction', \n",
        "    metricName='f1'\n",
        ")\n",
        "print('Test F1 = {:.4f}'.format(f1_evaluator.evaluate(predictions)))"
      ]
    }
  ],
  "metadata": {
    "colab": {
      "collapsed_sections": [],
      "name": "spark.ipynb",
      "provenance": []
    },
    "kernelspec": {
      "display_name": "Python 3",
      "name": "python3"
    },
    "language_info": {
      "name": "python"
    }
  },
  "nbformat": 4,
  "nbformat_minor": 0
}
